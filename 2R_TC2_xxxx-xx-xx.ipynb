{
 "cells": [
  {
   "cell_type": "markdown",
   "metadata": {},
   "source": [
    "# Punto 1\n",
    "Se nos pide sintetizar:$$\\frac{V2_{(S)}}{I1_{(S)}}=\\frac{1}{S^3 +2S^2 +2S +1}$$\n",
    "Necesito que el numerador sea Impar, por lo tanto dado que el numerador esta compuesto por \"1\"(funcion par) dividimos por la parte impar del denominador.<br>\n",
    "Resultando en:\n",
    "$$F_{(S)}=\\frac{Z_{21}}{Z_{22}+1}=\\frac{\\frac{1}{S^3+2S}}{\\frac{2S^2+1}{S^3+2S}+1}$$"
   ]
  },
  {
   "cell_type": "code",
   "execution_count": 14,
   "metadata": {},
   "outputs": [
    {
     "name": "stdout",
     "output_type": "stream",
     "text": [
      "Le voy a dar forma de circuito pi para facilitar la verificacion con simulador\n",
      "Doy vuelta\n",
      "S       3⋅S     \n",
      "─ + ────────────\n",
      "2     ⎛   2    ⎞\n",
      "    2⋅⎝2⋅S  + 1⎠\n",
      "Saco el capacitor en derivacion\n",
      "    3⋅S     \n",
      "────────────\n",
      "  ⎛   2    ⎞\n",
      "2⋅⎝2⋅S  + 1⎠\n",
      "Doy vuelta\n",
      "4⋅S    2 \n",
      "─── + ───\n",
      " 3    3⋅S\n",
      "Y aca veo un inductor serie de 4/3 y un capa en derivacion de 3/2.\n",
      "El capa en derivacion porque planeo poner un gen de corriente.\n"
     ]
    }
   ],
   "source": [
    "from scipy import signal\n",
    "from sympy import *\n",
    "import matplotlib.pyplot as plt\n",
    "import math as m\n",
    "from splane import pzmap, grpDelay, bodePlot\n",
    "import numpy as np\n",
    "\n",
    "S=symbols('S')\n",
    "\n",
    "\n",
    "print(\"Le voy a dar forma de circuito pi para facilitar la verificacion con simulador\")\n",
    "print(\"Doy vuelta\")\n",
    "Y22=1/Z22\n",
    "pprint(apart(Y22))\n",
    "print(\"Saco el capacitor en derivacion\")\n",
    "Y2=Y22-S/2\n",
    "pprint(apart(Y2))\n",
    "print(\"Doy vuelta\")\n",
    "Z2=1/Y2\n",
    "pprint(apart(Z2))\n",
    "print(\"Y aca veo un inductor serie de 4/3 y un capa en derivacion de 3/2.\\nEl capa en derivacion porque planeo poner un gen de corriente.\")"
   ]
  },
  {
   "cell_type": "markdown",
   "metadata": {},
   "source": [
    "Adjunto la verificacion:<br>\n",
    "<img src=\"./Veri_1.PNG\" align=\"center\" width=\"80%\" />"
   ]
  },
  {
   "cell_type": "markdown",
   "metadata": {},
   "source": [
    "# 1.b)?"
   ]
  },
  {
   "cell_type": "code",
   "execution_count": 17,
   "metadata": {},
   "outputs": [
    {
     "name": "stdout",
     "output_type": "stream",
     "text": [
      "T_gir=\n",
      "⎡0  K⎤\n",
      "⎢    ⎥\n",
      "⎢1   ⎥\n",
      "⎢─  0⎥\n",
      "⎣K   ⎦\n",
      "T_C=\n",
      "⎡1   0⎤\n",
      "⎢     ⎥\n",
      "⎣Yc  1⎦\n",
      "T_total=\n",
      "⎡    2   ⎤\n",
      "⎢1  K ⋅Yc⎥\n",
      "⎢        ⎥\n",
      "⎣0    1  ⎦\n"
     ]
    }
   ],
   "source": [
    "K, Yc=symbols('K Yc')\n",
    "T_gir=Matrix(([0,K],\n",
    "            [1/K,0]))\n",
    "print(\"T_gir=\")\n",
    "pprint(T_gir)\n",
    "\n",
    "T_C=Matrix(([1,0],\n",
    "            [Yc,1]))\n",
    "print(\"T_C=\")\n",
    "pprint(T_C)\n",
    "\n",
    "T_total=T_gir*T_C*T_gir\n",
    "print(\"T_total=\")\n",
    "pprint(T_total)"
   ]
  },
  {
   "cell_type": "markdown",
   "metadata": {},
   "source": [
    "# No se nos aclara para el 1.c una frecuencia de trabajo asumimos que unicamente desnormalizamos en impedancia"
   ]
  },
  {
   "cell_type": "code",
   "execution_count": 15,
   "metadata": {},
   "outputs": [
    {
     "name": "stdout",
     "output_type": "stream",
     "text": [
      "R[ 1 ] valia 1 => 50\n",
      "C[ 1 ] valia 0.5 => 0.01\n",
      "C[ 2 ] valia 1.5 => 0.03\n",
      "L[ 1 ] valia 1.3333333333333333 => 66.66666666666666\n"
     ]
    }
   ],
   "source": [
    "##########Constantes de Desnormalizacion#############\n",
    "N_z=50\n",
    "#N_w=1*10**9*2*m.pi\n",
    "N_w=1#Pongo 1 porque es el numero que no pincha ni corta en la multi y la divi\n",
    "####Vector de resistencias Normalizadas#############\n",
    "#####Se debe inicializar con los valores de tus resistencias########\n",
    "R_n=[1]\n",
    "\n",
    "####Vector de resistencias Desnormalizadas##########\n",
    "R=[]\n",
    "for i in range(len(R_n)):\n",
    "    \n",
    "    R.append(R_n[i]*N_z)\n",
    "    print('R[',i+1,'] valia',R_n[i],'=>',R[i])\n",
    "\n",
    "####Vector de capacitores Normalizados#############\n",
    "#####Se debe inicializar con los valores de tus capacitores########\n",
    "C_n=[0.5,1.5]\n",
    "\n",
    "####Vector de Capacitores Desnormalizados##########\n",
    "\n",
    "C=[]\n",
    "for i in range(len(C_n)):\n",
    "    C.append(C_n[i]/N_z / N_w)\n",
    "    print('C[',i+1,'] valia',C_n[i],'=>',C[i])\n",
    "\n",
    "####Vector de inductores Normalizados#############\n",
    "#####Se debe inicializar con los valores de tus inductores########\n",
    "L_n=[4/3]\n",
    "\n",
    "####Vector de inductores Desnormalizados##########\n",
    "\n",
    "L=[]\n",
    "for i in range(len(L_n)):\n",
    "    L.append(L_n[i]*N_z/N_w)\n",
    "    print('L[',i+1,'] valia',L_n[i],'=>',L[i])\n"
   ]
  },
  {
   "cell_type": "markdown",
   "metadata": {},
   "source": [
    "# El punto 2 lo salteo ya que es primer parcial en otro momento volvere a hacerlo.(Es un clarisimo GIC)"
   ]
  },
  {
   "cell_type": "markdown",
   "metadata": {},
   "source": [
    "# 3.B)\n",
    "Yo personalmente hallaria la matriz Y del cuadripolo PI, hallaria la matriz Z del cuadripolo T y luego igualaria matrices Y\n",
    "$$-Y_{12}=\\frac{1}{Z_2}\\rightarrow Y_{12}=-\\frac{1}{Z_2}$$\n",
    "$$Y_{12}=Y_{21}$$\n",
    "$$Y_{11}+Y_{12}=\\frac{1}{Z_{1}}\\rightarrow Y_{11}=\\frac{Z_{1}+ Z_{2}}{Z_{1}*Z_{2}}$$\n",
    "$$Y_{22}+Y_{12}=\\frac{1}{Z_{3}}\\rightarrow Y_{22}=\\frac{Z_{3}+ Z_{2}}{Z_{3}*Z_{2}}$$\n",
    "$$\\begin{bmatrix}\n",
    "Y_{11} & Y_{12}\\\\\n",
    "Y_{21} & Y_{22}\n",
    "\\end{bmatrix}=\\begin{bmatrix}\n",
    "\\frac{Z_{1}+ Z_{2}}{Z_{1}*Z_{2}} & -\\frac{1}{Z_2}\\\\\n",
    "-\\frac{1}{Z_2} & \\frac{Z_{3}+ Z_{2}}{Z_{3}*Z_{2}}\n",
    "\\end{bmatrix}$$\n",
    "Hallo la matriz Z del cuadripolo T:<br>\n",
    "$$Z_{12}=Z_{B}$$\n",
    "\n",
    "$$Z_{A}=Z_{11}-Z_{12}\\rightarrow Z_{11}=Z_{A}+Z_{B}$$\n",
    "\n",
    "$$Z_{C}=Z_{22}-Z_{12}\\rightarrow Z_{22}=Z_{C}+Z_{B}$$\n",
    "Y la matriz Y de la red T con:<br>\n",
    "\n",
    "\n",
    "$$\\begin{bmatrix}\n",
    "Y_{11} & Y_{12}\\\\\n",
    "Y_{21} & Y_{22}\n",
    "\\end{bmatrix}=\\begin{bmatrix}\n",
    "\\frac{Z_{22}}{\\Delta Z} & -\\frac{Z_{12}}{\\Delta Z}\\\\\n",
    "-\\frac{Z_{21}}{\\Delta Z} & \\frac{Z_{11}}{\\Delta Z}\n",
    "\\end{bmatrix}$$\n",
    "E igualo las matrices Y."
   ]
  }
 ],
 "metadata": {
  "kernelspec": {
   "display_name": "Python 3",
   "language": "python",
   "name": "python3"
  },
  "language_info": {
   "codemirror_mode": {
    "name": "ipython",
    "version": 3
   },
   "file_extension": ".py",
   "mimetype": "text/x-python",
   "name": "python",
   "nbconvert_exporter": "python",
   "pygments_lexer": "ipython3",
   "version": "3.7.6"
  }
 },
 "nbformat": 4,
 "nbformat_minor": 4
}
